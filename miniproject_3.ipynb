{
 "cells": [
  {
   "cell_type": "code",
   "execution_count": 1,
   "id": "27592280",
   "metadata": {},
   "outputs": [],
   "source": [
    "import pandas as pd"
   ]
  },
  {
   "cell_type": "code",
   "execution_count": 13,
   "id": "30417937",
   "metadata": {},
   "outputs": [
    {
     "data": {
      "text/plain": [
       "3"
      ]
     },
     "execution_count": 13,
     "metadata": {},
     "output_type": "execute_result"
    }
   ],
   "source": [
    "# Задание_№1\n",
    "# Загрузите два датасета user_data и logs. Сколько уникальных значений принимает переменная platform?\n",
    "\n",
    "user_data = pd.read_csv('C:/Users/aseno/Desktop/repositories/csv_files/3_user_data.csv')\n",
    "logs      = pd.read_csv('C:/Users/aseno/Desktop/repositories/csv_files/3_logs.csv')\n",
    "\n",
    "unique_platform_values = logs.platform.nunique()\n",
    "unique_platform_values"
   ]
  },
  {
   "cell_type": "code",
   "execution_count": 4,
   "id": "e837e588",
   "metadata": {},
   "outputs": [
    {
     "data": {
      "text/plain": [
       "client     int64\n",
       "premium     bool\n",
       "age        int64\n",
       "dtype: object"
      ]
     },
     "execution_count": 4,
     "metadata": {},
     "output_type": "execute_result"
    }
   ],
   "source": [
    "user_data.dtypes"
   ]
  },
  {
   "cell_type": "code",
   "execution_count": 19,
   "id": "010f6f0d",
   "metadata": {},
   "outputs": [
    {
     "data": {
      "text/plain": [
       "(2954, 3)"
      ]
     },
     "execution_count": 19,
     "metadata": {},
     "output_type": "execute_result"
    }
   ],
   "source": [
    "user_data.shape"
   ]
  },
  {
   "cell_type": "code",
   "execution_count": 5,
   "id": "ea81b43b",
   "metadata": {},
   "outputs": [
    {
     "data": {
      "text/plain": [
       "client       int64\n",
       "success       bool\n",
       "platform    object\n",
       "time         int64\n",
       "dtype: object"
      ]
     },
     "execution_count": 5,
     "metadata": {},
     "output_type": "execute_result"
    }
   ],
   "source": [
    "logs.dtypes"
   ]
  },
  {
   "cell_type": "code",
   "execution_count": 20,
   "id": "6546ca6a",
   "metadata": {},
   "outputs": [
    {
     "data": {
      "text/plain": [
       "(4500, 4)"
      ]
     },
     "execution_count": 20,
     "metadata": {},
     "output_type": "execute_result"
    }
   ],
   "source": [
    "logs.shape"
   ]
  },
  {
   "cell_type": "code",
   "execution_count": 35,
   "id": "15336f11",
   "metadata": {},
   "outputs": [
    {
     "data": {
      "text/plain": [
       "client\n",
       "12179    41\n",
       "28719    41\n",
       "36165    41\n",
       "52870    41\n",
       "61468    41\n",
       "61473    41\n",
       "78349    41\n",
       "82563    41\n",
       "92584    41\n",
       "dtype: int64"
      ]
     },
     "execution_count": 35,
     "metadata": {},
     "output_type": "execute_result"
    }
   ],
   "source": [
    "# Задание_№2\n",
    "# Какой клиент совершил больше всего успешных операций?\n",
    "\n",
    "success_clients    = logs.query('success == True').groupby('client').size() # counting successful transactions for each client\n",
    "\n",
    "max_succes         = success_clients.max()  # find the maximum of successful operations\n",
    "\n",
    "max_success_clients = success_clients.loc[success_clients == max_succes] # select the most successful clients\n",
    "max_success_clients"
   ]
  },
  {
   "cell_type": "code",
   "execution_count": null,
   "id": "cd82bc4d",
   "metadata": {},
   "outputs": [],
   "source": []
  }
 ],
 "metadata": {
  "kernelspec": {
   "display_name": "Python 3 (ipykernel)",
   "language": "python",
   "name": "python3"
  },
  "language_info": {
   "codemirror_mode": {
    "name": "ipython",
    "version": 3
   },
   "file_extension": ".py",
   "mimetype": "text/x-python",
   "name": "python",
   "nbconvert_exporter": "python",
   "pygments_lexer": "ipython3",
   "version": "3.9.7"
  }
 },
 "nbformat": 4,
 "nbformat_minor": 5
}
